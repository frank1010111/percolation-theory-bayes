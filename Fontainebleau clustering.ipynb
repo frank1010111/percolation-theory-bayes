{
 "cells": [
  {
   "cell_type": "markdown",
   "metadata": {},
   "source": [
    "# Fontainebleau clustering"
   ]
  },
  {
   "cell_type": "code",
   "execution_count": 1,
   "metadata": {},
   "outputs": [],
   "source": [
    "%matplotlib inline\n",
    "import matplotlib\n",
    "from matplotlib import pyplot as plt\n",
    "import seaborn as sns\n",
    "import numpy as np\n",
    "import pandas as pd\n",
    "import pystan\n",
    "import arviz as az\n",
    "from sklearn.cluster import KMeans\n",
    "\n",
    "sns.set(style='whitegrid')"
   ]
  },
  {
   "cell_type": "code",
   "execution_count": 2,
   "metadata": {},
   "outputs": [
    {
     "data": {
      "text/html": [
       "<div>\n",
       "<style scoped>\n",
       "    .dataframe tbody tr th:only-of-type {\n",
       "        vertical-align: middle;\n",
       "    }\n",
       "\n",
       "    .dataframe tbody tr th {\n",
       "        vertical-align: top;\n",
       "    }\n",
       "\n",
       "    .dataframe thead th {\n",
       "        text-align: right;\n",
       "    }\n",
       "</style>\n",
       "<table border=\"1\" class=\"dataframe\">\n",
       "  <thead>\n",
       "    <tr style=\"text-align: right;\">\n",
       "      <th></th>\n",
       "      <th>porosity</th>\n",
       "      <th>permeability</th>\n",
       "    </tr>\n",
       "  </thead>\n",
       "  <tbody>\n",
       "    <tr>\n",
       "      <th>0</th>\n",
       "      <td>3.1</td>\n",
       "      <td>0.075858</td>\n",
       "    </tr>\n",
       "    <tr>\n",
       "      <th>1</th>\n",
       "      <td>2.6</td>\n",
       "      <td>0.097724</td>\n",
       "    </tr>\n",
       "    <tr>\n",
       "      <th>2</th>\n",
       "      <td>3.1</td>\n",
       "      <td>0.097724</td>\n",
       "    </tr>\n",
       "    <tr>\n",
       "      <th>3</th>\n",
       "      <td>3.5</td>\n",
       "      <td>0.097724</td>\n",
       "    </tr>\n",
       "    <tr>\n",
       "      <th>4</th>\n",
       "      <td>3.9</td>\n",
       "      <td>0.097724</td>\n",
       "    </tr>\n",
       "    <tr>\n",
       "      <th>...</th>\n",
       "      <td>...</td>\n",
       "      <td>...</td>\n",
       "    </tr>\n",
       "    <tr>\n",
       "      <th>156</th>\n",
       "      <td>23.2</td>\n",
       "      <td>3548.133892</td>\n",
       "    </tr>\n",
       "    <tr>\n",
       "      <th>157</th>\n",
       "      <td>23.7</td>\n",
       "      <td>3548.133892</td>\n",
       "    </tr>\n",
       "    <tr>\n",
       "      <th>158</th>\n",
       "      <td>23.8</td>\n",
       "      <td>3162.277660</td>\n",
       "    </tr>\n",
       "    <tr>\n",
       "      <th>159</th>\n",
       "      <td>26.7</td>\n",
       "      <td>6456.542290</td>\n",
       "    </tr>\n",
       "    <tr>\n",
       "      <th>160</th>\n",
       "      <td>28.5</td>\n",
       "      <td>7762.471166</td>\n",
       "    </tr>\n",
       "  </tbody>\n",
       "</table>\n",
       "<p>161 rows × 2 columns</p>\n",
       "</div>"
      ],
      "text/plain": [
       "     porosity  permeability\n",
       "0         3.1      0.075858\n",
       "1         2.6      0.097724\n",
       "2         3.1      0.097724\n",
       "3         3.5      0.097724\n",
       "4         3.9      0.097724\n",
       "..        ...           ...\n",
       "156      23.2   3548.133892\n",
       "157      23.7   3548.133892\n",
       "158      23.8   3162.277660\n",
       "159      26.7   6456.542290\n",
       "160      28.5   7762.471166\n",
       "\n",
       "[161 rows x 2 columns]"
      ]
     },
     "execution_count": 2,
     "metadata": {},
     "output_type": "execute_result"
    }
   ],
   "source": [
    "df = (pd.read_excel('~/Dropbox/ROZ/data/Fontainebleau/7-Bourbie&Zinszner-1985_PT.xls', \n",
    "                   sheet_name=1,\n",
    "                   skiprows=[0,1,3],\n",
    "                   usecols=['porosity', 'permeability']\n",
    "                  )\n",
    "     .dropna()\n",
    "     )\n",
    "df"
   ]
  },
  {
   "cell_type": "code",
   "execution_count": 10,
   "metadata": {},
   "outputs": [
    {
     "data": {
      "image/png": "[encoded data removed]",
      "text/plain": [
       "<Figure size 432x288 with 1 Axes>"
      ]
     },
     "metadata": {},
     "output_type": "display_data"
    }
   ],
   "source": [
    "df_log = df.apply(np.log)\n",
    "def train_and_inertia(df, n_clusters):\n",
    "    kmeans = KMeans(n_clusters=n_clusters).fit(df)\n",
    "    return kmeans.inertia_\n",
    "sse = pd.Series({k:train_and_inertia(df_log, k) for k in range(1, 10)})\n",
    "sse.plot()\n",
    "plt.gca().set(xlabel='Number of clusters', ylabel='Sum squared error')\n",
    "plt.show()\n",
    "\n"
   ]
  },
  {
   "cell_type": "code",
   "execution_count": 15,
   "metadata": {},
   "outputs": [],
   "source": [
    "df['cluster'] = KMeans(n_clusters=2).fit_predict(df_log) + 1 # Stan is one-indexed"
   ]
  },
  {
   "cell_type": "code",
   "execution_count": 26,
   "metadata": {},
   "outputs": [
    {
     "data": {
      "text/plain": [
       "[None]"
      ]
     },
     "execution_count": 26,
     "metadata": {},
     "output_type": "execute_result"
    },
    {
     "data": {
      "image/png": "[encoded data removed]",
      "text/plain": [
       "<Figure size 432x288 with 1 Axes>"
      ]
     },
     "metadata": {},
     "output_type": "display_data"
    }
   ],
   "source": [
    "g = sns.scatterplot('porosity', 'permeability', hue='cluster', data=df)\n",
    "g.set(yscale='log')"
   ]
  },
  {
   "cell_type": "code",
   "execution_count": 27,
   "metadata": {},
   "outputs": [
    {
     "data": {
      "text/html": [
       "<div>\n",
       "<style scoped>\n",
       "    .dataframe tbody tr th:only-of-type {\n",
       "        vertical-align: middle;\n",
       "    }\n",
       "\n",
       "    .dataframe tbody tr th {\n",
       "        vertical-align: top;\n",
       "    }\n",
       "\n",
       "    .dataframe thead th {\n",
       "        text-align: right;\n",
       "    }\n",
       "</style>\n",
       "<table border=\"1\" class=\"dataframe\">\n",
       "  <thead>\n",
       "    <tr style=\"text-align: right;\">\n",
       "      <th></th>\n",
       "      <th>count</th>\n",
       "      <th>mean</th>\n",
       "      <th>std</th>\n",
       "      <th>min</th>\n",
       "      <th>25%</th>\n",
       "      <th>50%</th>\n",
       "      <th>75%</th>\n",
       "      <th>max</th>\n",
       "    </tr>\n",
       "    <tr>\n",
       "      <th>cluster</th>\n",
       "      <th></th>\n",
       "      <th></th>\n",
       "      <th></th>\n",
       "      <th></th>\n",
       "      <th></th>\n",
       "      <th></th>\n",
       "      <th></th>\n",
       "      <th></th>\n",
       "    </tr>\n",
       "  </thead>\n",
       "  <tbody>\n",
       "    <tr>\n",
       "      <th>1</th>\n",
       "      <td>89.0</td>\n",
       "      <td>16.823034</td>\n",
       "      <td>4.299611</td>\n",
       "      <td>8.0</td>\n",
       "      <td>14.4</td>\n",
       "      <td>16.8</td>\n",
       "      <td>19.10</td>\n",
       "      <td>28.5</td>\n",
       "    </tr>\n",
       "    <tr>\n",
       "      <th>2</th>\n",
       "      <td>72.0</td>\n",
       "      <td>4.539583</td>\n",
       "      <td>1.072477</td>\n",
       "      <td>2.5</td>\n",
       "      <td>3.9</td>\n",
       "      <td>4.2</td>\n",
       "      <td>5.25</td>\n",
       "      <td>7.0</td>\n",
       "    </tr>\n",
       "  </tbody>\n",
       "</table>\n",
       "</div>"
      ],
      "text/plain": [
       "         count       mean       std  min   25%   50%    75%   max\n",
       "cluster                                                          \n",
       "1         89.0  16.823034  4.299611  8.0  14.4  16.8  19.10  28.5\n",
       "2         72.0   4.539583  1.072477  2.5   3.9   4.2   5.25   7.0"
      ]
     },
     "execution_count": 27,
     "metadata": {},
     "output_type": "execute_result"
    }
   ],
   "source": [
    "df.groupby('cluster')['porosity'].describe()"
   ]
  },
  {
   "cell_type": "code",
   "execution_count": 57,
   "metadata": {},
   "outputs": [
    {
     "name": "stderr",
     "output_type": "stream",
     "text": [
      "INFO:pystan:COMPILING THE C++ CODE FOR MODEL anon_model_fdf3eb199763da58f0bf124489b701d6 NOW.\n"
     ]
    }
   ],
   "source": [
    "model_code = \"\"\"\n",
    "data {\n",
    "    int<lower=1> N;\n",
    "    vector[N] phi;\n",
    "    vector[N] perm;\n",
    "    int<lower=1,upper=2> cluster[N];\n",
    "}\n",
    "transformed data {\n",
    "    vector [N] logperm = log(perm);\n",
    "}\n",
    "parameters {\n",
    "    real <lower=0> C_k[2];\n",
    "    real <lower=0> t_exponent[2];\n",
    "    real <lower=0, upper=2.5> phi_critical[2];\n",
    "    real <lower=0> sigma_e[2];\n",
    "}\n",
    "transformed parameters {\n",
    "    real mu[N];\n",
    "    for (i in 1:N)\n",
    "        mu[i] = log(C_k[cluster[i]]) + t_exponent[cluster[i]] * log(phi[i] - phi_critical[cluster[i]]);\n",
    "}\n",
    "model {\n",
    "    /*C_k ~ lognormal(.2,1);*/\n",
    "    t_exponent ~ normal(3, 1);\n",
    "    phi_critical ~ normal(1.5, .5);\n",
    "    for (i in 1:N)\n",
    "        logperm[i] ~ normal(mu[i], sigma_e[cluster[i]]);\n",
    "}\n",
    "generated quantities {\n",
    "    vector[N] log_lik;\n",
    "    vector[N] y_hat;\n",
    "    for (i in 1:N){\n",
    "        log_lik[i] = normal_lpdf(logperm[i] | mu[i], sigma_e[cluster[i]]);\n",
    "        y_hat[i] = exp(normal_rng(mu[i], sigma_e[cluster[i]]));\n",
    "    }\n",
    "}\n",
    "\"\"\"\n",
    "model = pystan.StanModel(model_code=model_code)"
   ]
  },
  {
   "cell_type": "code",
   "execution_count": 58,
   "metadata": {},
   "outputs": [
    {
     "name": "stderr",
     "output_type": "stream",
     "text": [
      "WARNING:pystan:Truncated summary with the 'fit.__repr__' method. For the full summary use 'print(fit)'\n"
     ]
    },
    {
     "data": {
      "text/plain": [
       "\n",
       "Warning: Shown data is truncated to 100 parameters\n",
       "For the full summary use 'print(fit)'\n",
       "\n",
       "Inference for Stan model: anon_model_fdf3eb199763da58f0bf124489b701d6.\n",
       "4 chains, each with iter=5000; warmup=1000; thin=1; \n",
       "post-warmup draws per chain=4000, total post-warmup draws=16000.\n",
       "\n",
       "                  mean se_mean     sd   2.5%    25%    50%    75%   97.5%  n_eff   Rhat\n",
       "C_k[1]            0.64  3.1e-3   0.25   0.27   0.46    0.6   0.79    1.23   6556    1.0\n",
       "C_k[2]            0.01  1.5e-4   0.01 1.3e-3 5.1e-3 9.6e-3   0.02    0.05   6516    1.0\n",
       "t_exponent[1]     2.81  1.4e-3   0.12   2.59   2.73    2.8   2.88    3.04   7280    1.0\n",
       "t_exponent[2]     4.44  5.9e-3   0.47   3.56   4.12   4.43   4.75     5.4   6386    1.0\n",
       "phi_critical[1]   1.52  5.0e-3   0.43   0.65   1.23   1.53   1.82    2.32   7524    1.0\n",
       "phi_critical[2]    1.2  3.4e-3   0.27   0.63   1.02   1.21   1.39    1.68   6360    1.0\n",
       "sigma_e[1]        0.18  1.4e-4   0.01   0.16   0.17   0.18   0.19    0.21  10862    1.0\n",
       "sigma_e[2]        0.71  6.1e-4   0.06    0.6   0.66    0.7   0.75    0.84  10666    1.0\n",
       "mu[1]            -1.84  1.2e-3   0.16  -2.15  -1.94  -1.84  -1.73   -1.53  16585    1.0\n",
       "mu[2]            -3.21  2.1e-3   0.26  -3.74  -3.38   -3.2  -3.03   -2.71  15764    1.0\n",
       "mu[3]            -1.84  1.2e-3   0.16  -2.15  -1.94  -1.84  -1.73   -1.53  16585    1.0\n",
       "mu[4]            -0.98  9.5e-4   0.12  -1.21  -1.06  -0.99  -0.91   -0.75  14892    1.0\n",
       "mu[5]            -0.27  8.0e-4   0.09  -0.46  -0.33  -0.27  -0.21   -0.08  13996    1.0\n",
       "mu[6]            -0.19  7.8e-4   0.09  -0.37  -0.25  -0.19  -0.13 -5.8e-3  14004    1.0\n",
       "mu[7]            -3.55  2.5e-3    0.3  -4.16  -3.74  -3.54  -3.34   -2.99  14973    1.0\n",
       "mu[8]            -1.84  1.2e-3   0.16  -2.15  -1.94  -1.84  -1.73   -1.53  16585    1.0\n",
       "mu[9]            -0.98  9.5e-4   0.12  -1.21  -1.06  -0.99  -0.91   -0.75  14892    1.0\n",
       "mu[10]           -0.27  8.0e-4   0.09  -0.46  -0.33  -0.27  -0.21   -0.08  13996    1.0\n",
       "mu[11]           -1.61  1.1e-3   0.14  -1.89   -1.7  -1.61  -1.51   -1.32  16209    1.0\n",
       "mu[12]           -0.79  9.1e-4   0.11  -1.01  -0.87   -0.8  -0.72   -0.58  14527    1.0\n",
       "mu[13]           -0.19  7.8e-4   0.09  -0.37  -0.25  -0.19  -0.13 -5.8e-3  14004    1.0\n",
       "mu[14]           -1.61  1.1e-3   0.14  -1.89   -1.7  -1.61  -1.51   -1.32  16209    1.0\n",
       "mu[15]           -0.98  9.5e-4   0.12  -1.21  -1.06  -0.99  -0.91   -0.75  14892    1.0\n",
       "mu[16]           -0.11  7.7e-4   0.09  -0.29  -0.17  -0.11  -0.05    0.07  14042    1.0\n",
       "mu[17]             0.2  7.2e-4   0.09   0.02   0.14    0.2   0.25    0.37  14431    1.0\n",
       "mu[18]           -1.18  1.0e-3   0.12  -1.43  -1.27  -1.18   -1.1   -0.93  15316    1.0\n",
       "mu[19]           -0.44  8.3e-4    0.1  -0.63   -0.5  -0.44  -0.37   -0.24  14066    1.0\n",
       "mu[20]           -0.11  7.7e-4   0.09  -0.29  -0.17  -0.11  -0.05    0.07  14042    1.0\n",
       "mu[21]           -0.79  9.1e-4   0.11  -1.01  -0.87   -0.8  -0.72   -0.58  14527    1.0\n",
       "mu[22]           -0.11  7.7e-4   0.09  -0.29  -0.17  -0.11  -0.05    0.07  14042    1.0\n",
       "mu[23]            0.05  7.4e-4   0.09  -0.13  -0.01   0.05    0.1    0.22  14189    1.0\n",
       "mu[24]           -0.11  7.7e-4   0.09  -0.29  -0.17  -0.11  -0.05    0.07  14042    1.0\n",
       "mu[25]             0.2  7.2e-4   0.09   0.02   0.14    0.2   0.25    0.37  14431    1.0\n",
       "mu[26]           -0.98  9.5e-4   0.12  -1.21  -1.06  -0.99  -0.91   -0.75  14892    1.0\n",
       "mu[27]           -0.11  7.7e-4   0.09  -0.29  -0.17  -0.11  -0.05    0.07  14042    1.0\n",
       "mu[28]           -0.79  9.1e-4   0.11  -1.01  -0.87   -0.8  -0.72   -0.58  14527    1.0\n",
       "mu[29]           -0.11  7.7e-4   0.09  -0.29  -0.17  -0.11  -0.05    0.07  14042    1.0\n",
       "mu[30]           -0.27  8.0e-4   0.09  -0.46  -0.33  -0.27  -0.21   -0.08  13996    1.0\n",
       "mu[31]             0.2  7.2e-4   0.09   0.02   0.14    0.2   0.25    0.37  14431    1.0\n",
       "mu[32]            0.75  6.8e-4   0.09   0.58   0.69   0.75   0.81    0.93  16126    1.0\n",
       "mu[33]           -0.27  8.0e-4   0.09  -0.46  -0.33  -0.27  -0.21   -0.08  13996    1.0\n",
       "mu[34]             0.2  7.2e-4   0.09   0.02   0.14    0.2   0.25    0.37  14431    1.0\n",
       "mu[35]           -0.79  9.1e-4   0.11  -1.01  -0.87   -0.8  -0.72   -0.58  14527    1.0\n",
       "mu[36]           -0.11  7.7e-4   0.09  -0.29  -0.17  -0.11  -0.05    0.07  14042    1.0\n",
       "mu[37]            0.34  7.1e-4   0.09   0.17   0.28   0.34    0.4    0.51  14767    1.0\n",
       "mu[38]            0.62  6.9e-4   0.09   0.45   0.56   0.62   0.68    0.79  15644    1.0\n",
       "mu[39]            0.88  6.9e-4   0.09   0.71   0.82   0.88   0.94    1.06  16462    1.0\n",
       "mu[40]             0.2  7.2e-4   0.09   0.02   0.14    0.2   0.25    0.37  14431    1.0\n",
       "mu[41]            0.88  6.9e-4   0.09   0.71   0.82   0.88   0.94    1.06  16462    1.0\n",
       "mu[42]            1.25  7.3e-4    0.1   1.06   1.18   1.25   1.31    1.44  17000    1.0\n",
       "mu[43]            0.05  7.4e-4   0.09  -0.13  -0.01   0.05    0.1    0.22  14189    1.0\n",
       "mu[44]            1.13  7.1e-4   0.09   0.95   1.07   1.13   1.19    1.31  16901    1.0\n",
       "mu[45]             0.2  7.2e-4   0.09   0.02   0.14    0.2   0.25    0.37  14431    1.0\n",
       "mu[46]            1.25  7.3e-4    0.1   1.06   1.18   1.25   1.31    1.44  17000    1.0\n",
       "mu[47]             0.2  7.2e-4   0.09   0.02   0.14    0.2   0.25    0.37  14431    1.0\n",
       "mu[48]            0.62  6.9e-4   0.09   0.45   0.56   0.62   0.68    0.79  15644    1.0\n",
       "mu[49]            1.13  7.1e-4   0.09   0.95   1.07   1.13   1.19    1.31  16901    1.0\n",
       "mu[50]            0.88  6.9e-4   0.09   0.71   0.82   0.88   0.94    1.06  16462    1.0\n",
       "mu[51]            1.36  7.6e-4    0.1   1.17    1.3   1.36   1.43    1.56  17006    1.0\n",
       "mu[52]            1.79  8.8e-4   0.11   1.57   1.72   1.79   1.87    2.02  16415    1.0\n",
       "mu[53]            1.84  9.0e-4   0.12   1.61   1.77   1.84   1.92    2.07  16299    1.0\n",
       "mu[54]            1.47  7.8e-4    0.1   1.27   1.41   1.47   1.54    1.67  16937    1.0\n",
       "mu[55]            1.79  8.8e-4   0.11   1.57   1.72   1.79   1.87    2.02  16415    1.0\n",
       "mu[56]            1.25  7.3e-4    0.1   1.06   1.18   1.25   1.31    1.44  17000    1.0\n",
       "mu[57]            1.69  8.5e-4   0.11   1.47   1.62   1.69   1.76    1.91  16629    1.0\n",
       "mu[58]            1.36  7.6e-4    0.1   1.17    1.3   1.36   1.43    1.56  17006    1.0\n",
       "mu[59]            1.89  9.2e-4   0.12   1.66   1.82    1.9   1.97    2.13  16179    1.0\n",
       "mu[60]            2.09  1.0e-3   0.13   1.84   2.01   2.09   2.18    2.34  15669    1.0\n",
       "mu[61]            2.09  1.0e-3   0.13   1.84   2.01   2.09   2.18    2.34  15669    1.0\n",
       "mu[62]            1.79  8.8e-4   0.11   1.57   1.72   1.79   1.87    2.02  16415    1.0\n",
       "mu[63]            2.28  1.1e-3   0.13   2.01   2.19   2.28   2.37    2.54  15098    1.0\n",
       "mu[64]            2.19  1.0e-3   0.13   1.92    2.1   2.19   2.28    2.44  15410    1.0\n",
       "mu[65]            2.46  1.2e-3   0.14   2.17   2.37   2.46   2.56    2.74  14527    1.0\n",
       "mu[66]            2.46  1.2e-3   0.14   2.17   2.37   2.46   2.56    2.74  14527    1.0\n",
       "mu[67]            2.72  1.3e-3   0.16    2.4   2.62   2.72   2.83    3.02  13776    1.0\n",
       "mu[68]            2.88  1.4e-3   0.17   2.55   2.77   2.89    3.0     3.2  13336    1.0\n",
       "mu[69]            2.64  1.3e-3   0.15   2.33   2.54   2.64   2.74    2.93  14014    1.0\n",
       "mu[70]            2.96  1.5e-3   0.17   2.62   2.85   2.97   3.08    3.29  13133    1.0\n",
       "mu[71]            2.96  1.5e-3   0.17   2.62   2.85   2.97   3.08    3.29  13133    1.0\n",
       "mu[72]            3.12  1.6e-3   0.18   2.75    3.0   3.12   3.24    3.47  12760    1.0\n",
       "mu[73]            4.73  4.3e-4   0.06   4.61   4.69   4.73   4.77    4.85  19537    1.0\n",
       "mu[74]            4.86  4.0e-4   0.06   4.75   4.82   4.86    4.9    4.97  19426    1.0\n",
       "mu[75]            5.06  3.7e-4   0.05   4.96   5.03   5.06   5.09    5.16  18809    1.0\n",
       "mu[76]             5.1  3.6e-4   0.05    5.0   5.07    5.1   5.13     5.2  18675    1.0\n",
       "mu[77]            5.06  3.7e-4   0.05   4.96   5.03   5.06   5.09    5.16  18809    1.0\n",
       "mu[78]            5.21  3.4e-4   0.05   5.12   5.18   5.21   5.24     5.3  18366    1.0\n",
       "mu[79]            5.25  3.4e-4   0.05   5.16   5.22   5.25   5.28    5.34  18280    1.0\n",
       "mu[80]            5.32  3.3e-4   0.04   5.23   5.29   5.32   5.35    5.41  18083    1.0\n",
       "mu[81]            5.49  3.0e-4   0.04   5.41   5.46   5.49   5.52    5.57  17486    1.0\n",
       "mu[82]            5.68  2.8e-4   0.04   5.61   5.66   5.68   5.71    5.75  16536    1.0\n",
       "mu[83]            5.95  2.6e-4   0.03   5.88   5.93   5.95   5.97    6.01  15163    1.0\n",
       "mu[84]            5.83  2.7e-4   0.03   5.76   5.81   5.83   5.85     5.9  15732    1.0\n",
       "mu[85]             6.0  2.5e-4   0.03   5.94   5.98    6.0   6.02    6.06  14906    1.0\n",
       "mu[86]            6.08  2.4e-4   0.03   6.03   6.06   6.08    6.1    6.14  14559    1.0\n",
       "mu[87]            6.29  2.2e-4   0.03   6.24   6.27   6.29   6.31    6.34  13869    1.0\n",
       "mu[88]            6.34  2.2e-4   0.03   6.29   6.32   6.34   6.36    6.39  13753    1.0\n",
       "mu[89]            6.41  2.1e-4   0.02   6.36    6.4   6.41   6.43    6.46  13621    1.0\n",
       "mu[90]            6.55  2.0e-4   0.02   6.51   6.54   6.55   6.57     6.6  13519    1.0\n",
       "mu[91]            6.53  2.0e-4   0.02   6.48   6.51   6.53   6.54    6.57  13521    1.0\n",
       "lp__             88.63    0.03   2.15  83.48  87.43   89.0  90.21   91.73   5240    1.0\n",
       "\n",
       "Samples were drawn using NUTS at Wed Jul 15 17:36:02 2020.\n",
       "For each parameter, n_eff is a crude measure of effective sample size,\n",
       "and Rhat is the potential scale reduction factor on split chains (at \n",
       "convergence, Rhat=1)."
      ]
     },
     "execution_count": 58,
     "metadata": {},
     "output_type": "execute_result"
    }
   ],
   "source": [
    "data = {'N': len(df.porosity), 'phi':df.porosity, 'perm': df.permeability, 'cluster': df.cluster}\n",
    "fit = model.sampling(\n",
    "    data=data, iter=5000, chains=4, warmup=1000, thin=1, seed=42, #adapt_delta = 1.0,\n",
    ")\n",
    "#fit"
   ]
  },
  {
   "cell_type": "code",
   "execution_count": 76,
   "metadata": {},
   "outputs": [
    {
     "data": {
      "text/html": [
       "<div>\n",
       "<style scoped>\n",
       "    .dataframe tbody tr th:only-of-type {\n",
       "        vertical-align: middle;\n",
       "    }\n",
       "\n",
       "    .dataframe tbody tr th {\n",
       "        vertical-align: top;\n",
       "    }\n",
       "\n",
       "    .dataframe thead th {\n",
       "        text-align: right;\n",
       "    }\n",
       "</style>\n",
       "<table border=\"1\" class=\"dataframe\">\n",
       "  <thead>\n",
       "    <tr style=\"text-align: right;\">\n",
       "      <th></th>\n",
       "      <th>mean</th>\n",
       "      <th>sd</th>\n",
       "      <th>hpd_3%</th>\n",
       "      <th>hpd_97%</th>\n",
       "      <th>mcse_mean</th>\n",
       "      <th>mcse_sd</th>\n",
       "      <th>ess_mean</th>\n",
       "      <th>ess_sd</th>\n",
       "      <th>ess_bulk</th>\n",
       "      <th>ess_tail</th>\n",
       "      <th>r_hat</th>\n",
       "    </tr>\n",
       "  </thead>\n",
       "  <tbody>\n",
       "    <tr>\n",
       "      <th>C_k[0]</th>\n",
       "      <td>0.644</td>\n",
       "      <td>0.248</td>\n",
       "      <td>0.231</td>\n",
       "      <td>1.104</td>\n",
       "      <td>0.003</td>\n",
       "      <td>0.002</td>\n",
       "      <td>6614.0</td>\n",
       "      <td>6065.0</td>\n",
       "      <td>7029.0</td>\n",
       "      <td>7937.0</td>\n",
       "      <td>1.0</td>\n",
       "    </tr>\n",
       "    <tr>\n",
       "      <th>C_k[1]</th>\n",
       "      <td>0.013</td>\n",
       "      <td>0.012</td>\n",
       "      <td>0.000</td>\n",
       "      <td>0.034</td>\n",
       "      <td>0.000</td>\n",
       "      <td>0.000</td>\n",
       "      <td>6545.0</td>\n",
       "      <td>6545.0</td>\n",
       "      <td>6199.0</td>\n",
       "      <td>6871.0</td>\n",
       "      <td>1.0</td>\n",
       "    </tr>\n",
       "    <tr>\n",
       "      <th>phi_critical[0]</th>\n",
       "      <td>1.518</td>\n",
       "      <td>0.431</td>\n",
       "      <td>0.745</td>\n",
       "      <td>2.353</td>\n",
       "      <td>0.005</td>\n",
       "      <td>0.004</td>\n",
       "      <td>7541.0</td>\n",
       "      <td>7164.0</td>\n",
       "      <td>7371.0</td>\n",
       "      <td>7022.0</td>\n",
       "      <td>1.0</td>\n",
       "    </tr>\n",
       "    <tr>\n",
       "      <th>phi_critical[1]</th>\n",
       "      <td>1.198</td>\n",
       "      <td>0.270</td>\n",
       "      <td>0.703</td>\n",
       "      <td>1.708</td>\n",
       "      <td>0.003</td>\n",
       "      <td>0.002</td>\n",
       "      <td>6385.0</td>\n",
       "      <td>6385.0</td>\n",
       "      <td>6472.0</td>\n",
       "      <td>7020.0</td>\n",
       "      <td>1.0</td>\n",
       "    </tr>\n",
       "    <tr>\n",
       "      <th>t_exponent[0]</th>\n",
       "      <td>2.807</td>\n",
       "      <td>0.116</td>\n",
       "      <td>2.597</td>\n",
       "      <td>3.031</td>\n",
       "      <td>0.001</td>\n",
       "      <td>0.001</td>\n",
       "      <td>7287.0</td>\n",
       "      <td>7287.0</td>\n",
       "      <td>7263.0</td>\n",
       "      <td>8648.0</td>\n",
       "      <td>1.0</td>\n",
       "    </tr>\n",
       "    <tr>\n",
       "      <th>t_exponent[1]</th>\n",
       "      <td>4.442</td>\n",
       "      <td>0.469</td>\n",
       "      <td>3.566</td>\n",
       "      <td>5.318</td>\n",
       "      <td>0.006</td>\n",
       "      <td>0.004</td>\n",
       "      <td>6413.0</td>\n",
       "      <td>6355.0</td>\n",
       "      <td>6458.0</td>\n",
       "      <td>7714.0</td>\n",
       "      <td>1.0</td>\n",
       "    </tr>\n",
       "  </tbody>\n",
       "</table>\n",
       "</div>"
      ],
      "text/plain": [
       "                  mean     sd  hpd_3%  hpd_97%  mcse_mean  mcse_sd  ess_mean  \\\n",
       "C_k[0]           0.644  0.248   0.231    1.104      0.003    0.002    6614.0   \n",
       "C_k[1]           0.013  0.012   0.000    0.034      0.000    0.000    6545.0   \n",
       "phi_critical[0]  1.518  0.431   0.745    2.353      0.005    0.004    7541.0   \n",
       "phi_critical[1]  1.198  0.270   0.703    1.708      0.003    0.002    6385.0   \n",
       "t_exponent[0]    2.807  0.116   2.597    3.031      0.001    0.001    7287.0   \n",
       "t_exponent[1]    4.442  0.469   3.566    5.318      0.006    0.004    6413.0   \n",
       "\n",
       "                 ess_sd  ess_bulk  ess_tail  r_hat  \n",
       "C_k[0]           6065.0    7029.0    7937.0    1.0  \n",
       "C_k[1]           6545.0    6199.0    6871.0    1.0  \n",
       "phi_critical[0]  7164.0    7371.0    7022.0    1.0  \n",
       "phi_critical[1]  6385.0    6472.0    7020.0    1.0  \n",
       "t_exponent[0]    7287.0    7263.0    8648.0    1.0  \n",
       "t_exponent[1]    6355.0    6458.0    7714.0    1.0  "
      ]
     },
     "execution_count": 76,
     "metadata": {},
     "output_type": "execute_result"
    }
   ],
   "source": [
    "var_names = ['C_k','phi_critical','t_exponent']\n",
    "az_fit = az.from_pystan(\n",
    "    fit,\n",
    "    posterior_predictive='y_hat',\n",
    "    observed_data=[\"perm\"], \n",
    "    log_likelihood = \"log_lik\",\n",
    "    coords={\"Cluster\": [\"High porosity\",\"Low porosity\"]}, \n",
    "    dims = {\"phi_critical\": [\"Cluster\"], \"C_k\":[\"Cluster\"], \"t_exponent\":[\"Cluster\"]}\n",
    ")\n",
    "az.summary(az_fit, var_names)"
   ]
  },
  {
   "cell_type": "code",
   "execution_count": 77,
   "metadata": {},
   "outputs": [
    {
     "data": {
      "text/plain": [
       "[Text(0.5, 0, 'Variable value'), Text(0.5, 1.0, '')]"
      ]
     },
     "execution_count": 77,
     "metadata": {},
     "output_type": "execute_result"
    },
    {
     "data": {
      "image/png": "[encoded data removed]",
      "text/plain": [
       "<Figure size 432x216 with 1 Axes>"
      ]
     },
     "metadata": {},
     "output_type": "display_data"
    }
   ],
   "source": [
    "az.plot_forest(az_fit, var_names=var_names, figsize=(6,3), kind='forestplot', combined=True,\n",
    "              credible_interval=0.95)\n",
    "plt.gca().set(xlabel=\"Variable value\", title='')\n",
    "#plt.savefig('bayes_figures/Fontainebleau_forest.png', dpi=300, bbox_inches='tight')"
   ]
  },
  {
   "cell_type": "code",
   "execution_count": 75,
   "metadata": {},
   "outputs": [
    {
     "name": "stderr",
     "output_type": "stream",
     "text": [
      "/home/frank/anaconda3/envs/bayes/lib/python3.8/site-packages/arviz/stats/stats.py:1194: UserWarning: For one or more samples the posterior variance of the log predictive densities exceeds 0.4. This could be indication of WAIC starting to fail. \n",
      "See http://arxiv.org/abs/1507.04544 for details\n",
      "  warnings.warn(\n"
     ]
    },
    {
     "data": {
      "text/plain": [
       "(Computed from 16000 by 161 log-likelihood matrix\n",
       " \n",
       "        Estimate       SE\n",
       " IC_loo   111.93    30.16\n",
       " p_loo      8.01        -,\n",
       " Computed from 16000 by 161 log-likelihood matrix\n",
       " \n",
       "         Estimate       SE\n",
       " IC_waic   111.50    30.01\n",
       " p_waic      7.79        -\n",
       " \n",
       " There has been a warning during the calculation. Please check the results.)"
      ]
     },
     "execution_count": 75,
     "metadata": {},
     "output_type": "execute_result"
    }
   ],
   "source": [
    "az.loo(az_fit), az.waic(az_fit)"
   ]
  },
  {
   "cell_type": "code",
   "execution_count": 51,
   "metadata": {},
   "outputs": [
    {
     "data": {
      "image/png": "[encoded data removed]",
      "text/plain": [
       "<Figure size 432x288 with 1 Axes>"
      ]
     },
     "metadata": {},
     "output_type": "display_data"
    }
   ],
   "source": [
    "def log_posterior_examples(phi_predict, fit, num_examples=100):\n",
    "    t = fit['t_exponent']\n",
    "    phi_c = fit['phi_critical']\n",
    "    perm0 = fit['C_k']\n",
    "    phi_switch = 8\n",
    "    samples = np.random.choice(len(t), num_examples)\n",
    "    for e in samples:\n",
    "        perm = np.zeros_like(phi_predict)\n",
    "        perm[phi_predict > phi_switch] = perm0[e,0] * (phi_predict[phi_predict > phi_switch] - phi_c[e,0]) ** t[e,0]\n",
    "        perm[phi_predict <= phi_switch] = perm0[e,1] * (phi_predict[phi_predict <= phi_switch] - phi_c[e,1]) ** t[e,1]\n",
    "        yield perm\n",
    "\n",
    "phi_fit = np.linspace(2.4, 30, 60)\n",
    "for y in log_posterior_examples(phi_fit, fit, 100):\n",
    "    plt.plot(phi_fit, y, color='tab:green', alpha=.1)\n",
    "ax = plt.gca()\n",
    "sc = sns.scatterplot('porosity', 'permeability', ax=ax, hue='cluster', \n",
    "                     data=df.assign(cluster=df.cluster.replace({1:'One',2:'Two'})))\n",
    "#sc = df.plot.scatter('porosity', 'permeability', ax=ax, c='cluster', cmap='Wistia')\n",
    "#porosity_pred = np.linspace(2.5, 35)\n",
    "#k_pred = 0.51 * (porosity_pred - 2.366) ** 2.91\n",
    "#plt.plot(porosity_pred, k_pred, label='Curve fit', color='crimson')\n",
    "ax.set(\n",
    "    xlabel='Porosity',\n",
    "    xscale='log',\n",
    "    xlim=(2.4, 30),\n",
    "    ylabel='Permeabily (mD)',\n",
    "    yscale='log', \n",
    "    ylim=(1e-2, 1e4)\n",
    ")\n",
    "#plt.legend()\n",
    "plt.xticks([3,5,7,10,14,20,30],[3,5,7,10,14,20,30]);\n",
    "#sns.despine()\n",
    "plt.savefig('bayes_figures/Fontainebleau_fit.png', dpi=300, bbox_inches='tight')"
   ]
  },
  {
   "cell_type": "code",
   "execution_count": 54,
   "metadata": {},
   "outputs": [
    {
     "ename": "TypeError",
     "evalue": "Data must include log_likelihood in sample_stats",
     "output_type": "error",
     "traceback": [
      "\u001b[0;31m---------------------------------------------------------------------------\u001b[0m",
      "\u001b[0;31mTypeError\u001b[0m                                 Traceback (most recent call last)",
      "\u001b[0;32m<ipython-input-54-006523136ace>\u001b[0m in \u001b[0;36m<module>\u001b[0;34m\u001b[0m\n\u001b[0;32m----> 1\u001b[0;31m \u001b[0maz\u001b[0m\u001b[0;34m.\u001b[0m\u001b[0mstats\u001b[0m\u001b[0;34m.\u001b[0m\u001b[0mwaic\u001b[0m\u001b[0;34m(\u001b[0m\u001b[0maz_fit\u001b[0m\u001b[0;34m)\u001b[0m\u001b[0;34m\u001b[0m\u001b[0;34m\u001b[0m\u001b[0m\n\u001b[0m",
      "\u001b[0;32m~/anaconda3/envs/bayes/lib/python3.8/site-packages/arviz/stats/stats.py\u001b[0m in \u001b[0;36mwaic\u001b[0;34m(data, pointwise, scale)\u001b[0m\n\u001b[1;32m   1162\u001b[0m             )\n\u001b[1;32m   1163\u001b[0m     \u001b[0;32mif\u001b[0m \u001b[0;34m\"log_likelihood\"\u001b[0m \u001b[0;32mnot\u001b[0m \u001b[0;32min\u001b[0m \u001b[0minference_data\u001b[0m\u001b[0;34m.\u001b[0m\u001b[0msample_stats\u001b[0m\u001b[0;34m:\u001b[0m\u001b[0;34m\u001b[0m\u001b[0;34m\u001b[0m\u001b[0m\n\u001b[0;32m-> 1164\u001b[0;31m         \u001b[0;32mraise\u001b[0m \u001b[0mTypeError\u001b[0m\u001b[0;34m(\u001b[0m\u001b[0;34m\"Data must include log_likelihood in sample_stats\"\u001b[0m\u001b[0;34m)\u001b[0m\u001b[0;34m\u001b[0m\u001b[0;34m\u001b[0m\u001b[0m\n\u001b[0m\u001b[1;32m   1165\u001b[0m     \u001b[0mlog_likelihood\u001b[0m \u001b[0;34m=\u001b[0m \u001b[0minference_data\u001b[0m\u001b[0;34m.\u001b[0m\u001b[0msample_stats\u001b[0m\u001b[0;34m.\u001b[0m\u001b[0mlog_likelihood\u001b[0m\u001b[0;34m\u001b[0m\u001b[0;34m\u001b[0m\u001b[0m\n\u001b[1;32m   1166\u001b[0m \u001b[0;34m\u001b[0m\u001b[0m\n",
      "\u001b[0;31mTypeError\u001b[0m: Data must include log_likelihood in sample_stats"
     ]
    }
   ],
   "source": [
    "az.stats.waic(az_fit)"
   ]
  }
 ],
 "metadata": {
  "kernelspec": {
   "display_name": "Python 3",
   "language": "python",
   "name": "python3"
  },
  "language_info": {
   "codemirror_mode": {
    "name": "ipython",
    "version": 3
   },
   "file_extension": ".py",
   "mimetype": "text/x-python",
   "name": "python",
   "nbconvert_exporter": "python",
   "pygments_lexer": "ipython3",
   "version": "3.8.3"
  }
 },
 "nbformat": 4,
 "nbformat_minor": 4
}
